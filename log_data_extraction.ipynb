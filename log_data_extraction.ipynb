{
 "cells": [
  {
   "cell_type": "code",
   "execution_count": 1,
   "metadata": {},
   "outputs": [],
   "source": [
    "import pandas as pd\n",
    "import numpy as np\n",
    "import io\n",
    "from io import StringIO\n",
    "import os\n",
    "from nltk.tokenize import word_tokenize"
   ]
  },
  {
   "cell_type": "code",
   "execution_count": 7,
   "metadata": {},
   "outputs": [],
   "source": [
    "# rotina para extrair os dados referentes ao conjunto de treino\n",
    "inicio = True\n",
    "for root, dirs, files in os.walk('/home/ascalercio/nlp/language-transfer-style-portuguese/save'):\n",
    "    for file in files:        \n",
    "        if file ==\"train_log.txt\":\n",
    "            path, date = os.path.split(root)\n",
    "            if ('Nov' in date or 'Feb23' in date or 'Feb24' in date):\n",
    "                continue\n",
    "            #print(date)\n",
    "            lines=[]\n",
    "            with open(root + '/train_log.txt', encoding=\"utf-8\") as f:\n",
    "                for line in f.read().splitlines():\n",
    "                    if line.split(\" \")[0]:\n",
    "                        lines.append(line.split(\" \")[-22:])\n",
    "\n",
    "            np_line = np.array(lines)\n",
    "            #print(np_line.shape)\n",
    "            #print(np_line[0])\n",
    "            np_line = np.concatenate((np_line[:,0:1], np_line[:, 3:4], np_line[:, 6:7], np_line[:, 9:10], np_line[:, 12:13], np_line[:, 15:16], np_line[:, 18:19], np_line[:, 21:22], np_line[:, 21:22]), axis = 1)\n",
    "            \n",
    "            np_line[:,-1]= date[-8:]\n",
    "            \n",
    "            if not inicio:\n",
    "                np_float=np.concatenate((np_float, np_line.astype(np.float)), axis = 0)\n",
    "            else:\n",
    "                np_float = np_line.astype(np.float)\n",
    "            inicio=False\n",
    "            \n",
    "            #print(np_float.shape)\n",
    "\n",
    "np.savetxt(\"/home/ascalercio/nlp/language-transfer-style-portuguese/logs/\" + \"train_log070421.csv\" , np_float, delimiter = \",\")\n"
   ]
  },
  {
   "cell_type": "code",
   "execution_count": 5,
   "metadata": {},
   "outputs": [],
   "source": [
    "# rotina para extrair os dados referentes ao conjunto de validação\n",
    "inicio = True\n",
    "for root, dirs, files in os.walk('/home/ascalercio/nlp/language-transfer-style-portuguese/save'):\n",
    "    for file in files:        \n",
    "        if file ==\"eval_log.txt\":\n",
    "            path, date = os.path.split(root)\n",
    "            if ('Nov' in date or 'Feb23' in date or 'Feb24' in date or 'mas' in date or 'teste' in date or 'deep' in date):\n",
    "                continue\n",
    "            #print(date)\n",
    "            lines=[]\n",
    "            with open(root + '/eval_log.txt', encoding=\"utf-8\") as f:\n",
    "                for line in f.read().splitlines():\n",
    "                    if line.split(\" \")[0]:\n",
    "                        lines.append(line.split(\" \")[-21:])\n",
    "\n",
    "            np_line = np.array(lines)\n",
    "            #print(np_line.shape)\n",
    "            np_line = np.concatenate((np_line[:,0:1], np_line[:, 2:3], np_line[:, 4:5], np_line[:, 6:7], np_line[:,8:9], np_line[:, 10:11], np_line[:, 12:13], np_line[:, 14:15], np_line[:,16:17], np_line[:, 18:19], np_line[:, 20:21], np_line[:, 20:21]), axis = 1)\n",
    "            \n",
    "            np_line[:,-1]= date[-8:]\n",
    "            \n",
    "            if not inicio:\n",
    "                np_float=np.concatenate((np_float, np_line.astype(np.float)), axis = 0)\n",
    "            else:\n",
    "                np_float = np_line.astype(np.float)\n",
    "            #print(np_float.shape)\n",
    "            inicio=False\n",
    "\n",
    "np.savetxt(\"/home/ascalercio/nlp/language-transfer-style-portuguese/logs/\" + \"eval_log070421.csv\" , np_float, delimiter = \",\")"
   ]
  }
 ],
 "metadata": {
  "kernelspec": {
   "display_name": "Python 3",
   "language": "python",
   "name": "python3"
  },
  "language_info": {
   "codemirror_mode": {
    "name": "ipython",
    "version": 3
   },
   "file_extension": ".py",
   "mimetype": "text/x-python",
   "name": "python",
   "nbconvert_exporter": "python",
   "pygments_lexer": "ipython3",
   "version": "3.7.3"
  }
 },
 "nbformat": 4,
 "nbformat_minor": 2
}
